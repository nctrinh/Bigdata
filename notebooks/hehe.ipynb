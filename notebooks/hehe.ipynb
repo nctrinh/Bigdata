{
 "cells": [
  {
   "cell_type": "code",
   "execution_count": 4,
   "id": "4fea6f19-5e58-4076-81f6-c5397b7746e7",
   "metadata": {},
   "outputs": [
    {
     "name": "stdout",
     "output_type": "stream",
     "text": [
      "+-------+---+\n",
      "|   Name|Age|\n",
      "+-------+---+\n",
      "|  Alice| 34|\n",
      "|    Bob| 45|\n",
      "|Charlie| 23|\n",
      "+-------+---+\n",
      "\n",
      "+-----+---+\n",
      "| Name|Age|\n",
      "+-----+---+\n",
      "|Alice| 34|\n",
      "|  Bob| 45|\n",
      "+-----+---+\n",
      "\n",
      "Tuổi trung bình: 34.0\n"
     ]
    }
   ],
   "source": [
    "from pyspark.sql import SparkSession\n",
    "\n",
    "spark = SparkSession.builder \\\n",
    "    .appName(\"PySpark Example\") \\\n",
    "    .getOrCreate()\n",
    "\n",
    "# Tạo DataFrame từ danh sách tuple\n",
    "data = [(\"Alice\", 34), (\"Bob\", 45), (\"Charlie\", 23)]\n",
    "columns = [\"Name\", \"Age\"]\n",
    "df = spark.createDataFrame(data, columns)\n",
    "\n",
    "# Hiển thị nội dung DataFrame\n",
    "df.show()\n",
    "\n",
    "# Lọc những người trên 30 tuổi\n",
    "df_filtered = df.filter(df.Age > 30)\n",
    "df_filtered.show()\n",
    "\n",
    "# Tính tuổi trung bình\n",
    "avg_age = df.agg({\"Age\": \"avg\"}).collect()[0][0]\n",
    "print(f\"Tuổi trung bình: {avg_age}\")"
   ]
  },
  {
   "cell_type": "code",
   "execution_count": null,
   "id": "55134bfe-bc67-4793-aa11-c029bcbd6900",
   "metadata": {},
   "outputs": [],
   "source": []
  }
 ],
 "metadata": {
  "kernelspec": {
   "display_name": "Python 3 (ipykernel)",
   "language": "python",
   "name": "python3"
  },
  "language_info": {
   "codemirror_mode": {
    "name": "ipython",
    "version": 3
   },
   "file_extension": ".py",
   "mimetype": "text/x-python",
   "name": "python",
   "nbconvert_exporter": "python",
   "pygments_lexer": "ipython3",
   "version": "3.11.6"
  }
 },
 "nbformat": 4,
 "nbformat_minor": 5
}
