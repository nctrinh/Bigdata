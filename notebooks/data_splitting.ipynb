{
 "cells": [
  {
   "cell_type": "code",
   "execution_count": 1,
   "id": "b6c965f7-3beb-4a96-b778-89f0fd6e1d87",
   "metadata": {},
   "outputs": [],
   "source": [
    "from pyspark.sql import SparkSession\n",
    "from pyspark.sql.functions import col"
   ]
  },
  {
   "cell_type": "code",
   "execution_count": 2,
   "id": "52ce9eed-5144-471e-9e1d-f13e2373c71c",
   "metadata": {},
   "outputs": [],
   "source": [
    "spark = SparkSession.builder.appName(\"SplitLoanTables\").getOrCreate()"
   ]
  },
  {
   "cell_type": "code",
   "execution_count": 3,
   "id": "21966db0-9f7b-4da6-9dc8-03ab661b155c",
   "metadata": {},
   "outputs": [],
   "source": [
    "SOURCE_PATH = \"../data/processed_data/part-00000-a3182952-1883-4fea-b3df-bf8414e6f643-c000.csv\"\n",
    "OUT_DIR = \"../data/splitted_data\""
   ]
  },
  {
   "cell_type": "code",
   "execution_count": 4,
   "id": "f1073111-3a50-4cf0-9f2c-d51eb58c4a9d",
   "metadata": {},
   "outputs": [],
   "source": [
    "df = (\n",
    "    spark.read.option(\"header\", True)\n",
    "    .option(\"inferSchema\", True)\n",
    "    .option(\"quote\", '\"')\n",
    "    .option(\"escape\", '\"')\n",
    "    .option(\"multiLine\", True)\n",
    "    .csv(SOURCE_PATH)\n",
    ")"
   ]
  },
  {
   "cell_type": "markdown",
   "id": "06c58167-2c7a-4f01-b423-7c7854d1cf2a",
   "metadata": {},
   "source": [
    "| Bảng (table)              | Khóa chính (PK)    | Các cột chính                                                                                                                                                                                                                                                                     | Vai trò / Mục đích                                                                                                      |\n",
    "| ------------------------- | ------------------ | --------------------------------------------------------------------------------------------------------------------------------------------------------------------------------------------------------------------------------------------------------------------------------- | ----------------------------------------------------------------------------------------------------------------------- |\n",
    "| **borrower_profile**      | `member_id`        | `member_id`, `emp_title`, `emp_length`, `home_ownership`, `annual_inc`, `verification_status`, `addr_state`, `zip_code`                                                                                                                                                           | Lưu thông tin cá nhân và hồ sơ người vay - dùng để xây dựng profile người vay.                                          |\n",
    "| **loan_info**             | `id`               | `id`, `member_id`, `loan_amnt`, `funded_amnt`, `funded_amnt_inv`, `term`, `int_rate`, `installment`, `grade`, `sub_grade`, `purpose`, `title`, `issue_d`, `policy_code`, `application_type`                                                                                       | Lưu thông tin chi tiết về từng khoản vay - điều kiện vay, thời hạn, lãi suất, mục đích.                                 |\n",
    "| **loan_status_history**   | `id`               | `id`, `loan_status`, `pymnt_plan`, `initial_list_status`, `last_pymnt_d`, `next_pymnt_d`, `last_pymnt_amnt`, `out_prncp`, `out_prncp_inv`                                                                                                                                         | Theo dõi trạng thái khoản vay và tiến trình thanh toán - quan trọng để phân tích rủi ro và hoàn trả.                    |\n",
    "| **repayment_summary**     | `id`               | `id`, `total_pymnt`, `total_pymnt_inv`, `total_rec_prncp`, `total_rec_int`, `total_rec_late_fee`, `recoveries`, `collection_recovery_fee`                                                                                                                                         | Tóm tắt hiệu quả hoàn trả của khoản vay - bao gồm tổng tiền đã trả, thu hồi, phí trễ hạn.                               |\n",
    "| **credit_profile**        | None | `id`, `member_id`, `delinq_2yrs`, `earliest_cr_line`, `inq_last_6mths`, `mths_since_last_delinq`, `mths_since_last_record`, `open_acc`, `pub_rec`, `revol_bal`, `revol_util`, `total_acc`, `collections_12_mths_ex_med`, `mths_since_last_major_derog`                            | Lưu hồ sơ tín dụng của người vay - lịch sử trễ hạn, số tài khoản mở, mức sử dụng tín dụng.                              |\n",
    "| **credit_account_detail** | None               | `id`, `member_id`, `open_acc_6m`, `open_il_6m`, `open_il_12m`, `open_il_24m`, `mths_since_rcnt_il`, `total_bal_il`, `il_util`, `open_rv_12m`, `open_rv_24m`, `max_bal_bc`, `all_util`, `total_rev_hi_lim`, `tot_coll_amt`, `tot_cur_bal`, `inq_fi`, `total_cu_tl`, `inq_last_12m` | Thông tin chi tiết hơn về tài khoản tín dụng và sử dụng tín dụng - hỗ trợ phân tích chi tiết về rủi ro tín dụng.        |\n",
    "| **joint_application**     | None               | `id`, `annual_inc_joint`, `dti_joint`, `verification_status_joint`, `acc_now_delinq`                                                                                                                                                                                              | Dành cho hồ sơ vay chung (joint) - thông tin thu nhập kết hợp, tỷ lệ nợ/thu nhập kết hợp, hiện trạng tài khoản trễ hạn. |\n",
    "| **meta_reference**        | None               | `id`, `url`, `desc`                                                                                                                                                                                                                                                               | Thông tin phụ trợ - liên kết tới chi tiết khoản vay và mô tả (description) của người vay.                               |\n"
   ]
  },
  {
   "cell_type": "code",
   "execution_count": 5,
   "id": "aa13163c-aa59-44b0-83fe-4199e5207b98",
   "metadata": {},
   "outputs": [],
   "source": [
    "tables = {\n",
    "    \"borrower_profile\": {\n",
    "        \"cols\": [\n",
    "            \"member_id\",\"emp_title\",\"emp_length\",\"home_ownership\",\"annual_inc\",\n",
    "            \"verification_status\",\"addr_state\",\"zip_code\"\n",
    "        ],\n",
    "        \"pk\": \"member_id\"\n",
    "    },\n",
    "    \"loan_info\": {\n",
    "        \"cols\": [\n",
    "            \"id\",\"member_id\",\"loan_amnt\",\"funded_amnt\",\"funded_amnt_inv\",\n",
    "            \"term\",\"int_rate\",\"installment\",\"grade\",\"sub_grade\",\n",
    "            \"purpose\",\"title\",\"issue_d\",\"policy_code\",\"application_type\"\n",
    "        ],\n",
    "        \"pk\": \"id\"\n",
    "    },\n",
    "    \"loan_status_history\": {\n",
    "        \"cols\": [\n",
    "            \"id\",\"loan_status\",\"pymnt_plan\",\"initial_list_status\",\n",
    "            \"last_pymnt_d\",\"next_pymnt_d\",\"last_pymnt_amnt\",\n",
    "            \"out_prncp\",\"out_prncp_inv\"\n",
    "        ],\n",
    "        \"pk\": \"id\"\n",
    "    },\n",
    "    \"repayment_summary\": {\n",
    "        \"cols\": [\n",
    "            \"id\",\"total_pymnt\",\"total_pymnt_inv\",\"total_rec_prncp\",\n",
    "            \"total_rec_int\",\"total_rec_late_fee\",\"recoveries\",\n",
    "            \"collection_recovery_fee\"\n",
    "        ],\n",
    "        \"pk\": \"id\"\n",
    "    },\n",
    "    \"credit_profile\": {\n",
    "        \"cols\": [\n",
    "            \"id\",\"member_id\",\"delinq_2yrs\",\"earliest_cr_line\",\"inq_last_6mths\",\n",
    "            \"mths_since_last_delinq\",\"mths_since_last_record\",\"open_acc\",\n",
    "            \"pub_rec\",\"revol_bal\",\"revol_util\",\"total_acc\",\n",
    "            \"collections_12_mths_ex_med\",\"mths_since_last_major_derog\"\n",
    "        ],\n",
    "        \"pk\": \"id\"\n",
    "    },\n",
    "    \"credit_account_detail\": {\n",
    "        \"cols\": [\n",
    "            \"id\",\"member_id\",\"open_acc_6m\",\"open_il_6m\",\"open_il_12m\",\"open_il_24m\",\n",
    "            \"mths_since_rcnt_il\",\"total_bal_il\",\"il_util\",\"open_rv_12m\",\"open_rv_24m\",\n",
    "            \"max_bal_bc\",\"all_util\",\"total_rev_hi_lim\",\"tot_coll_amt\",\"tot_cur_bal\",\n",
    "            \"inq_fi\",\"total_cu_tl\",\"inq_last_12m\"\n",
    "        ],\n",
    "        \"pk\": \"id\"\n",
    "    },\n",
    "    \"joint_application\": {\n",
    "        \"cols\": [\n",
    "            \"id\",\"annual_inc_joint\",\"dti_joint\",\"verification_status_joint\",\"acc_now_delinq\"\n",
    "        ],\n",
    "        \"pk\": \"id\"\n",
    "    },\n",
    "    \"meta_reference\": {\n",
    "        \"cols\": [\"id\",\"url\",\"desc\"],\n",
    "        \"pk\": \"id\"\n",
    "    }\n",
    "}"
   ]
  },
  {
   "cell_type": "code",
   "execution_count": 6,
   "id": "cfc70c1b-a036-4f3a-9a07-2479ed70e45f",
   "metadata": {},
   "outputs": [
    {
     "name": "stdout",
     "output_type": "stream",
     "text": [
      "Đã lưu bảng 'borrower_profile' vào: ../data/splitted_data/borrower_profile.csv\n",
      "Đã lưu bảng 'loan_info' vào: ../data/splitted_data/loan_info.csv\n",
      "Đã lưu bảng 'loan_status_history' vào: ../data/splitted_data/loan_status_history.csv\n",
      "Đã lưu bảng 'repayment_summary' vào: ../data/splitted_data/repayment_summary.csv\n",
      "Đã lưu bảng 'credit_profile' vào: ../data/splitted_data/credit_profile.csv\n",
      "Đã lưu bảng 'credit_account_detail' vào: ../data/splitted_data/credit_account_detail.csv\n",
      "Đã lưu bảng 'joint_application' vào: ../data/splitted_data/joint_application.csv\n",
      "Đã lưu bảng 'meta_reference' vào: ../data/splitted_data/meta_reference.csv\n"
     ]
    }
   ],
   "source": [
    "for tbl_name, meta in tables.items():\n",
    "    cols = [c for c in meta[\"cols\"] if c in df.columns]\n",
    "    if not cols:\n",
    "        print(f\"Bỏ qua bảng '{tbl_name}' (không có cột nào hợp lệ).\")\n",
    "        continue\n",
    "\n",
    "    subset_df = df.select(*cols)\n",
    "\n",
    "    pk = meta.get(\"pk\")\n",
    "    if pk and pk in subset_df.columns:\n",
    "        before = subset_df.count()\n",
    "        subset_df = subset_df.dropDuplicates([pk])\n",
    "        after = subset_df.count()\n",
    "        if before > after:\n",
    "            print(f\"Bảng '{tbl_name}': xóa {before - after} dòng trùng trên khóa '{pk}'.\")\n",
    "\n",
    "    out_path = f\"{OUT_DIR}/{tbl_name}.csv\"\n",
    "    subset_df.coalesce(1).write.mode(\"overwrite\").option(\"header\", True).csv(out_path)\n",
    "    print(f\"Đã lưu bảng '{tbl_name}' vào: {out_path}\")"
   ]
  }
 ],
 "metadata": {
  "kernelspec": {
   "display_name": "Python 3 (ipykernel)",
   "language": "python",
   "name": "python3"
  },
  "language_info": {
   "codemirror_mode": {
    "name": "ipython",
    "version": 3
   },
   "file_extension": ".py",
   "mimetype": "text/x-python",
   "name": "python",
   "nbconvert_exporter": "python",
   "pygments_lexer": "ipython3",
   "version": "3.11.6"
  }
 },
 "nbformat": 4,
 "nbformat_minor": 5
}
